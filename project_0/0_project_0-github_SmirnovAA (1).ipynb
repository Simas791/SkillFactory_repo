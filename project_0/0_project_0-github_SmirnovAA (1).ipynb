{
 "cells": [
  {
   "cell_type": "code",
   "execution_count": 8,
   "metadata": {},
   "outputs": [
    {
     "name": "stdout",
     "output_type": "stream",
     "text": [
      "Загадано число от 1 до 100\n",
      "50\n",
      "Угадываемое число больше 50 \n",
      "75\n",
      "Угадываемое число больше 75 \n",
      "82\n",
      "Угадываемое число меньше 82 \n",
      "80\n",
      "Вы угадали число 80 за 4 попыток.\n"
     ]
    }
   ],
   "source": [
    "import numpy as np\n",
    "\n",
    "count = 0                           # счетчик попыток\n",
    "number = np.random.randint(1,101)   # загадали число\n",
    "print (\"Загадано число от 1 до 100\")\n",
    "    \n",
    "while True:                        # бесконечный цикл\n",
    " predict = int(input())         # предполагаемое число\n",
    " count += 1                     # плюсуем попытку\n",
    " if number == predict: break    # выход из цикла, если угадали\n",
    " elif number > predict: print (f\"Угадываемое число больше {predict} \")\n",
    " elif number < predict: print (f\"Угадываемое число меньше {predict} \")\n",
    "            \n",
    "print (f\"Вы угадали число {number} за {count} попыток.\")  "
   ]
  },
  {
   "cell_type": "code",
   "execution_count": 9,
   "metadata": {},
   "outputs": [
    {
     "name": "stdout",
     "output_type": "stream",
     "text": [
      "Загадано число от 1 до 100\n",
      "Вы угадали число 78 за 78 попыток.\n"
     ]
    }
   ],
   "source": [
    "number = np.random.randint(1,101)      # загадали число\n",
    "print (\"Загадано число от 1 до 100\")\n",
    "for count in range(1,101):         # более компактный вариант счетчика\n",
    " if number == count: break      # выход из цикла, если угадали      \n",
    "print (f\"Вы угадали число {number} за {count} попыток.\")"
   ]
  },
  {
   "cell_type": "code",
   "execution_count": 17,
   "metadata": {},
   "outputs": [
    {
     "name": "stdout",
     "output_type": "stream",
     "text": [
      "Ваш алгоритм угадывает число в среднем за 37 попыток\n"
     ]
    },
    {
     "data": {
      "text/plain": [
       "37"
      ]
     },
     "execution_count": 17,
     "metadata": {},
     "output_type": "execute_result"
    }
   ],
   "source": [
    "import numpy as np\n",
    "def game_core_v1(number):\n",
    " '''Просто угадываем на random, никак не используя информацию о больше или меньше.\n",
    " Функция принимает загаданное число и возвращает число попыток'''\n",
    " count = 0\n",
    " while True:\n",
    "  count+=1\n",
    "  predict = np.random.randint(1,101) # предполагаемое число\n",
    "  if number == predict: \n",
    "   return count # выход из цикла, если угадали\n",
    "\n",
    "      \n",
    "def score_game(game_core):\n",
    " '''Запускаем игру 1000 раз, чтобы узнать, как быстро игра угадывает число'''\n",
    " count_ls = []\n",
    " np.random.seed(1)  # фиксируем RANDOM SEED, чтобы ваш эксперимент был воспроизводим!\n",
    " random_array = np.random.randint(1,101, size=(1000))\n",
    " for number in random_array:\n",
    "  count_ls.append(game_core(number))\n",
    "  score = int(np.mean(count_ls))\n",
    "  print(f\"Ваш алгоритм угадывает число в среднем за {score} попыток\")\n",
    "  return(score)\n",
    "\n",
    "score_game(game_core_v1)"
   ]
  },
  {
   "cell_type": "code",
   "execution_count": 8,
   "metadata": {},
   "outputs": [
    {
     "name": "stdout",
     "output_type": "stream",
     "text": [
      "Ваш алгоритм угадывает число в среднем за 2 попыток\n"
     ]
    },
    {
     "data": {
      "text/plain": [
       "2"
      ]
     },
     "execution_count": 8,
     "metadata": {},
     "output_type": "execute_result"
    }
   ],
   "source": [
    "import numpy as np\n",
    "\n",
    "def score_game(game_core):\n",
    " '''Запускаем игру 1000 раз, чтобы узнать, как быстро игра угадывает число'''\n",
    " count_ls = []\n",
    " np.random.seed(1)  # фиксируем RANDOM SEED, чтобы ваш эксперимент был воспроизводим!\n",
    " random_array = np.random.randint(1,101, size=(1000))\n",
    " for number in random_array:\n",
    "  count_ls.append(game_core(number))\n",
    "  score = int(np.mean(count_ls))\n",
    "  print(f\"Ваш алгоритм угадывает число в среднем за {score} попыток\")\n",
    "  return(score)\n",
    "\n",
    "\n",
    "def game_core_v2(number):\n",
    " '''Сначала устанавливаем любое random число, а потом/\n",
    " уменьшаем или увеличиваем его в зависимости от того, больше оно или меньше нужного.\n",
    " Функция принимает загаданное число и возвращает число попыток'''\n",
    " count = 1\n",
    " predict = np.random.randint(1,101)\n",
    " while number != predict:\n",
    "  count+=1\n",
    "  if number > predict: \n",
    "   predict += 1\n",
    "  elif number < predict: \n",
    "   predict -= 1\n",
    "  return(count) # выход из цикла, если угадали\n",
    "score_game(game_core_v2)"
   ]
  },
  {
   "cell_type": "code",
   "execution_count": 41,
   "metadata": {
    "scrolled": false
   },
   "outputs": [
    {
     "name": "stdout",
     "output_type": "stream",
     "text": [
      "Загаданное не разагаданное число 100\n",
      "Загаданное число 100\n",
      "Число попыток  1\n"
     ]
    }
   ],
   "source": [
    "#Выполненное задание\n",
    "\n",
    "import numpy as np\n",
    "\n",
    "def game_core_v3():\n",
    " '''Сначала устанавливаем любое random число, а потом /\n",
    " Берем среднее из границы меняем границы и движемся к искомому число\n",
    " Функция принимает загаданное число и возвращает число попыток'''\n",
    " count = 0 #Количество попыток\n",
    " predict = np.random.randint(1,101)\n",
    " #predict = 100\n",
    " print('Загаданное не разагаданное число', predict)\n",
    " if predict == 100:#Если загаданное число, 100 то основной алгоритм не работает т.к. зацикливается на 99\n",
    "  print('Загаданное число',100)\n",
    "  return(1) # выход из цикла, если угадали\n",
    "      \n",
    " min_borber = 1\n",
    " max_borber = 100\n",
    " while True:\n",
    "  current_number = int((min_borber + max_borber)/2)\n",
    "  print('Текущее число ', current_number) #Вывод искомого числа - для отладки\n",
    "    \n",
    "  count += 1 \n",
    "  if current_number == predict:\n",
    "   print('Загаданное число',current_number)\n",
    "   return(count) # выход из цикла, если угадали\n",
    "  elif current_number > predict:\n",
    "   max_borber = current_number\n",
    "  else:\n",
    "   min_borber = current_number\n",
    "  if count>300: \n",
    "   break\n",
    "\n",
    "print('Число попыток ', game_core_v3())        \n"
   ]
  },
  {
   "cell_type": "code",
   "execution_count": null,
   "metadata": {},
   "outputs": [],
   "source": []
  },
  {
   "cell_type": "code",
   "execution_count": null,
   "metadata": {},
   "outputs": [],
   "source": []
  }
 ],
 "metadata": {
  "kernelspec": {
   "display_name": "Python 3",
   "language": "python",
   "name": "python3"
  },
  "language_info": {
   "codemirror_mode": {
    "name": "ipython",
    "version": 3
   },
   "file_extension": ".py",
   "mimetype": "text/x-python",
   "name": "python",
   "nbconvert_exporter": "python",
   "pygments_lexer": "ipython3",
   "version": "3.8.5"
  }
 },
 "nbformat": 4,
 "nbformat_minor": 4
}
