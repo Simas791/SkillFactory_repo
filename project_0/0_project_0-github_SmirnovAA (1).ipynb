{
 "cells": [
  {
   "cell_type": "code",
   "execution_count": 34,
   "metadata": {
    "scrolled": false
   },
   "outputs": [
    {
     "name": "stdout",
     "output_type": "stream",
     "text": [
      "Загаданное не отгаданное число 55\n",
      "Загаданное отгаданное число 55\n",
      "Число попыток  7\n"
     ]
    }
   ],
   "source": [
    "#Выполненное задание\n",
    "\n",
    "import numpy as np\n",
    "\n",
    "def game_core_v3():\n",
    " '''Сначала устанавливаем любое random число, а потом /\n",
    " Берем среднее из границы меняем границы и движемся к искомому число\n",
    " Функция принимает загаданное число и возвращает число попыток'''\n",
    " count = 0 \n",
    " predict = np.random.randint(1,101)\n",
    " print('Загаданное не отгаданное число', predict)      \n",
    " min_borber = 1\n",
    " max_borber = 100\n",
    "    \n",
    " while True:\n",
    "  current_number = int((min_borber + max_borber)/2)\n",
    "  count += 1 \n",
    "  if current_number == predict:\n",
    "   print('Загаданное отгаданное число',current_number)\n",
    "   return(count) # выход из цикла, если угадали\n",
    "  elif current_number > predict:\n",
    "   max_borber = current_number\n",
    "  else:\n",
    "   min_borber = current_number\n",
    "  if count>300: \n",
    "   break\n",
    "\n",
    "print('Число попыток ', game_core_v3())        \n"
   ]
  },
  {
   "cell_type": "code",
   "execution_count": 38,
   "metadata": {},
   "outputs": [
    {
     "name": "stdout",
     "output_type": "stream",
     "text": [
      "Загаданное не отгаданное число 57\n",
      "Загаданное отгаданное число 57\n",
      "Число попыток  6\n"
     ]
    }
   ],
   "source": [
    "#Выполненное задание. Если загаданное число, 100 то основной алгоритм не работает т.к. зацикливается на 99\n",
    "\n",
    "import numpy as np\n",
    "\n",
    "def game_core_v3():\n",
    " '''Сначала устанавливаем любое random число, а потом /\n",
    " Берем среднее из границы меняем границы и движемся к искомому число\n",
    " Функция принимает загаданное число и возвращает число попыток'''\n",
    " count = 0 \n",
    " predict = np.random.randint(1,101)\n",
    " print('Загаданное не отгаданное число', predict)\n",
    " \n",
    " if predict == 100:#Если загаданное число, 100 то основной алгоритм не работает т.к. зацикливается на 99\n",
    "  print('Загаданное отгаданное число',100)\n",
    "  return(1) # выход из цикла, если угадали\n",
    "      \n",
    " min_borber = 1\n",
    " max_borber = 100\n",
    "    \n",
    " while True:\n",
    "  current_number = int((min_borber + max_borber)/2)\n",
    "  count += 1 \n",
    "  if current_number == predict:\n",
    "   print('Загаданное отгаданное число',current_number)\n",
    "   return(count) # выход из цикла, если угадали\n",
    "  elif current_number > predict:\n",
    "   max_borber = current_number\n",
    "  else:\n",
    "   min_borber = current_number\n",
    "  if count>300: \n",
    "   break\n",
    "\n",
    "print('Число попыток ', game_core_v3())        \n"
   ]
  },
  {
   "cell_type": "code",
   "execution_count": 39,
   "metadata": {},
   "outputs": [
    {
     "name": "stdout",
     "output_type": "stream",
     "text": [
      "Загаданное не отгаданное число 82\n",
      "Загаданное отгаданное число 82\n",
      "Число попыток  4\n"
     ]
    }
   ],
   "source": [
    "#Выполненное задание. Более универсальный вариант при загадывании числа 100\n",
    "\n",
    "import numpy as np\n",
    "\n",
    "def game_core_v3():\n",
    " '''Сначала устанавливаем любое random число, а потом /\n",
    " Берем среднее из границы меняем границы и движемся к искомому число\n",
    " Функция принимает загаданное число и возвращает число попыток'''\n",
    " count = 0\n",
    " predict = np.random.randint(1,101)\n",
    " print('Загаданное не отгаданное число', predict)\n",
    "    \n",
    " min_borber = 1\n",
    " max_borber = 101 #Здесь граница не 100, а 101, чтобы избежать зацикливания при загадывание числа 100,\n",
    "                  #т.е. это более универсальный алгоритм, где нет проверки на загаданное число 100.\n",
    "    \n",
    " while True:\n",
    "  current_number = int((min_borber + max_borber)/2)\n",
    "  count += 1 \n",
    "  if current_number == predict:\n",
    "   print('Загаданное отгаданное число',current_number)\n",
    "   return(count) # выход из цикла, если угадали\n",
    "  elif current_number > predict:\n",
    "   max_borber = current_number\n",
    "  else:\n",
    "   min_borber = current_number\n",
    "  if count>300: \n",
    "   break\n",
    "\n",
    "print('Число попыток ', game_core_v3())        \n"
   ]
  },
  {
   "cell_type": "code",
   "execution_count": 40,
   "metadata": {},
   "outputs": [
    {
     "name": "stdout",
     "output_type": "stream",
     "text": [
      "Ваш алгоритм угадывает число в среднем за 3 попыток\n"
     ]
    }
   ],
   "source": [
    "#Подсчет среднего количества шагов отгадывания\n",
    "import numpy as np\n",
    "\n",
    "\n",
    "def score_game():\n",
    " '''Запускаем игру 1000 раз, чтобы узнать, как быстро игра угадывает число'''\n",
    " count_ls = []\n",
    " np.random.seed(1)  # фиксируем RANDOM SEED, чтобы ваш эксперимент был воспроизводим!\n",
    " random_array = np.random.randint(1,101, size=(1000))\n",
    " for number in random_array:\n",
    "  count_ls.append(game_core_v3(number))\n",
    "  score = int(np.mean(count_ls))\n",
    "  return(score)\n",
    "\n",
    "\n",
    "def game_core_v3(number):\n",
    " '''Получаем загаданное число из number\n",
    " Берем среднее из границы меняем границы и движемся к искомому число\n",
    " Функция принимает загаданное число и возвращает число попыток'''\n",
    " count = 0     \n",
    " min_borber = 1\n",
    " max_borber = 101 #Здесь граница не 100, а 101, чтобы избежать зацикливания при загадывание числа 100,\n",
    "                  #т.е. это более универсальный алгоритм. \n",
    " while True:\n",
    "  current_number = int((min_borber + max_borber)/2)\n",
    "  count += 1 \n",
    "  if current_number == number:\n",
    "   return(count) # выход из цикла, если угадали\n",
    "  elif current_number > number:\n",
    "   max_borber = current_number\n",
    "  else:\n",
    "   min_borber = current_number\n",
    "  if count>300: \n",
    "   break\n",
    "\n",
    "\n",
    "print('Ваш алгоритм угадывает число в среднем за', score_game(), 'попыток')"
   ]
  },
  {
   "cell_type": "code",
   "execution_count": null,
   "metadata": {},
   "outputs": [],
   "source": []
  }
 ],
 "metadata": {
  "kernelspec": {
   "display_name": "Python 3",
   "language": "python",
   "name": "python3"
  },
  "language_info": {
   "codemirror_mode": {
    "name": "ipython",
    "version": 3
   },
   "file_extension": ".py",
   "mimetype": "text/x-python",
   "name": "python",
   "nbconvert_exporter": "python",
   "pygments_lexer": "ipython3",
   "version": "3.8.5"
  }
 },
 "nbformat": 4,
 "nbformat_minor": 4
}
